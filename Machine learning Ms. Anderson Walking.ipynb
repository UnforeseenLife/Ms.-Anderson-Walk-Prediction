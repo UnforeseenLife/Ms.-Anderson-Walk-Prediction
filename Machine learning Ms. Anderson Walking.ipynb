{
 "cells": [
  {
   "cell_type": "markdown",
   "metadata": {},
   "source": [
    "**Ms. Anderson walk prediection** <br>\n",
    "David Kahn <br>\n",
    "11/11/2016"
   ]
  },
  {
   "cell_type": "code",
   "execution_count": 11,
   "metadata": {
    "collapsed": false
   },
   "outputs": [
    {
     "name": "stdout",
     "output_type": "stream",
     "text": [
      "[0]\n"
     ]
    }
   ],
   "source": [
    "from sklearn import tree;\n",
    "\n",
    "# 1 = rain, 0 = sun\n",
    "features = [[75, 1], [62, 0], [70, 0], [71, 1], [59, 0], [40, 0], [63, 1], [66, 0], [59, 1]];\n",
    "# 1 = walk, 0 = not walk\n",
    "labels = [1, 1, 1, 0, 1, 0, 0, 0, 0];\n",
    "\n",
    "clf = tree.DecisionTreeClassifier();\n",
    "clf = clf.fit(features, labels);\n",
    "\n",
    "#weather forcast is 57 and raining tomorrow.\n",
    "print(clf.predict([[57, 1]]));"
   ]
  },
  {
   "cell_type": "markdown",
   "metadata": {},
   "source": [
    "The result of 0 would suggest that Ms. Anderson will not take a walk tomorrow. The prediction is based off of her previous habits of walking, taking temperature, and weather into account as well as whether or not she walked then. From this it is more likely that Ms. Anderson will not walk based on her previous tendencies."
   ]
  },
  {
   "cell_type": "code",
   "execution_count": null,
   "metadata": {
    "collapsed": true
   },
   "outputs": [],
   "source": []
  }
 ],
 "metadata": {
  "kernelspec": {
   "display_name": "Python [Root]",
   "language": "python",
   "name": "Python [Root]"
  },
  "language_info": {
   "codemirror_mode": {
    "name": "ipython",
    "version": 3
   },
   "file_extension": ".py",
   "mimetype": "text/x-python",
   "name": "python",
   "nbconvert_exporter": "python",
   "pygments_lexer": "ipython3",
   "version": "3.5.2"
  }
 },
 "nbformat": 4,
 "nbformat_minor": 0
}
